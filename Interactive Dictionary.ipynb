{
 "cells": [
  {
   "cell_type": "code",
   "execution_count": 1,
   "metadata": {},
   "outputs": [],
   "source": [
    "# imports\n",
    "import json\n",
    "from difflib import get_close_matches"
   ]
  },
  {
   "cell_type": "code",
   "execution_count": 2,
   "metadata": {},
   "outputs": [],
   "source": [
    "# load dictionary data\n",
    "data = json.load(open(\"data.json\"))"
   ]
  },
  {
   "cell_type": "code",
   "execution_count": 3,
   "metadata": {},
   "outputs": [],
   "source": [
    "# find meaning logic\n",
    "def find_meaning(w):\n",
    "    w = w.lower()\n",
    "    if w in data:\n",
    "        return data[w]\n",
    "    elif w.title() in data:\n",
    "        return data[w.title()]\n",
    "    elif w.upper() in data:\n",
    "        return data[w.upper()]\n",
    "    else:\n",
    "        new_word = get_close_matches(w, data.keys(), cutoff=0.8)\n",
    "        if len(new_word) > 0:\n",
    "            user_check = input(\"Did you mean %s instead? (y/n): \" % new_word[0])\n",
    "            user_check = user_check.lower()\n",
    "            if user_check == \"y\":\n",
    "                return data[new_word[0]]\n",
    "            elif user_check == \"n\":\n",
    "                return \"The word doesn't exist. Please double check it\"\n",
    "            else:\n",
    "                return \"The program couldn't understand your entry.\"\n",
    "        else:\n",
    "            return \"The word doesn't exist. Please double check it\""
   ]
  },
  {
   "cell_type": "code",
   "execution_count": 4,
   "metadata": {},
   "outputs": [
    {
     "name": "stdout",
     "output_type": "stream",
     "text": [
      "Enter word:hello\n",
      "Expression of greeting used by two or more people who meet each other.\n",
      "Find more meanings? (y/n): n\n",
      "Closing Interactive Dictionary...\n"
     ]
    }
   ],
   "source": [
    "# Interactive word search\n",
    "cont = \"y\"\n",
    "\n",
    "while cont.lower() == \"y\":\n",
    "    word = input(\"Enter word:\")\n",
    "    meaning = find_meaning(word)\n",
    "    if type(meaning) == list:\n",
    "        for item in meaning:\n",
    "            print(item)\n",
    "    else:\n",
    "        print(meaning)\n",
    "    cont = input(\"Find more meanings? (y/n): \")\n",
    "\n",
    "print(\"Closing Interactive Dictionary...\")"
   ]
  },
  {
   "cell_type": "code",
   "execution_count": null,
   "metadata": {},
   "outputs": [],
   "source": []
  }
 ],
 "metadata": {
  "kernelspec": {
   "display_name": "Python 3",
   "language": "python",
   "name": "python3"
  },
  "language_info": {
   "codemirror_mode": {
    "name": "ipython",
    "version": 3
   },
   "file_extension": ".py",
   "mimetype": "text/x-python",
   "name": "python",
   "nbconvert_exporter": "python",
   "pygments_lexer": "ipython3",
   "version": "3.7.3"
  }
 },
 "nbformat": 4,
 "nbformat_minor": 2
}
